{
 "nbformat": 4,
 "nbformat_minor": 0,
 "metadata": {
  "colab": {
   "name": "VectorCalculator.ipynb",
   "provenance": [],
   "authorship_tag": "ABX9TyPxpI0ABFCYd8dV3qSRf9cj"
  },
  "kernelspec": {
   "name": "python3",
   "display_name": "Python 3"
  },
  "language_info": {
   "name": "python"
  }
 },
 "cells": [
  {
   "cell_type": "code",
   "metadata": {
    "id": "1JQg8WAmmCJY",
    "pycharm": {
     "name": "#%%\n"
    }
   },
   "source": [
    "import math\n"
   ],
   "execution_count": 2,
   "outputs": []
  },
  {
   "cell_type": "code",
   "metadata": {
    "colab": {
     "base_uri": "https://localhost:8080/"
    },
    "id": "8KM-S3YzmH00",
    "outputId": "5196af30-189a-453f-b285-c9703eb1f2e8",
    "pycharm": {
     "name": "#%%\n"
    }
   },
   "source": [
    "\n",
    "quad = 0\n",
    "\n",
    "deg1 = int(input(\"Enter degrees for first vector: \"))\n",
    "mag1 = int(input(\"Enter the first vector's magnitude. \"))\n",
    "deg2 = int(input(\"Enter degrees for second vector: \"))\n",
    "mag2 = int(input(\"Enter the second vector's magnitude: \"))\n",
    "\n",
    "comps = []\n",
    "xcomp1 = mag1 * math.cos(math.radians(deg1))\n",
    "ycomp1 = mag1 * math.sin(math.radians(deg1))\n",
    "xcomp2 = mag2 * math.cos(math.radians(deg2))\n",
    "ycomp2 = mag2 * math.sin(math.radians(deg2))\n",
    "compx = xcomp1 + xcomp2\n",
    "compy = ycomp1 + ycomp2\n",
    "comps.extend((compx, compy))\n",
    "\n",
    "print(\"\\nThe components: \\n\")\n",
    "print(comps)\n",
    "\n",
    "magnitude = math.sqrt((compx)** 2 + (compy)** 2)\n",
    "\n",
    "print(\"\\nThe magnitude: \\n\")\n",
    "print(magnitude)\n",
    "\n",
    "direction = math.degrees(math.atan(compy / compx))\n",
    "\n",
    "print(\"\\nThe raw angle of the direction: \\n\")\n",
    "print(direction)\n",
    "\n",
    "if (compx > 0 and compy > 0):\n",
    "  quad = 1          \n",
    "elif (compx < 0 and compy > 0):\n",
    "  quad = 2\n",
    "      \n",
    "elif (compx < 0 and compy < 0):\n",
    "  quad = 3\n",
    "  \n",
    "elif (compx > 0 and compy < 0):\n",
    "  quad = 4\n",
    "\n",
    "print(\"\\nReal Angle: \\n\")\n",
    "\n",
    "if quad == 2 or quad == 3: \n",
    "  real_direction = direction + 180 \n",
    "  print(real_direction)\n",
    "elif quad == 4: \n",
    "  real_direction = 360 + direction\n",
    "  print(real_direction)\n",
    "else:\n",
    "  print(direction)"
   ],
   "execution_count": 3,
   "outputs": [
    {
     "name": "stdout",
     "output_type": "stream",
     "text": [
      "\n",
      "The components: \n",
      "\n",
      "[22.552622898861802, 8.20848343981605]\n",
      "\n",
      "The magnitude: \n",
      "\n",
      "24.0\n",
      "\n",
      "The raw angle of the direction: \n",
      "\n",
      "20.0\n",
      "\n",
      "Real Angle: \n",
      "\n",
      "20.0\n"
     ]
    }
   ]
  },
  {
   "cell_type": "code",
   "execution_count": null,
   "outputs": [],
   "source": [],
   "metadata": {
    "collapsed": false,
    "pycharm": {
     "name": "#%%\n"
    }
   }
  }
 ]
}